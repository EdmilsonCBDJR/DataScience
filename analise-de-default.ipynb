{
 "cells": [
  {
   "cell_type": "markdown",
   "id": "5befb862",
   "metadata": {
    "papermill": {
     "duration": 0.012291,
     "end_time": "2024-01-09T23:19:09.037948",
     "exception": false,
     "start_time": "2024-01-09T23:19:09.025657",
     "status": "completed"
    },
    "tags": []
   },
   "source": []
  },
  {
   "cell_type": "markdown",
   "id": "efe8730f",
   "metadata": {
    "papermill": {
     "duration": 0.011505,
     "end_time": "2024-01-09T23:19:09.062010",
     "exception": false,
     "start_time": "2024-01-09T23:19:09.050505",
     "status": "completed"
    },
    "tags": []
   },
   "source": [
    "1. Descrição do Problema:\n",
    "\n",
    "Uma empresa que concede crédito, precisa de uma melhor previsibilidade do score dos clientes, com intuito de evitar conceder crédito\n",
    "para clientes com propensão a inadimplência. Na base a seguir, teremos algumas variárias para conhecimento do perfil do cliente e a \n",
    "informação target que é a adimplência do mesmo.\n",
    "A seguir será feita uma análise exploratória dos dados para identificar algum padrão que possa ser usado."
   ]
  },
  {
   "cell_type": "markdown",
   "id": "8b0cd0d8",
   "metadata": {
    "papermill": {
     "duration": 0.011483,
     "end_time": "2024-01-09T23:19:09.085373",
     "exception": false,
     "start_time": "2024-01-09T23:19:09.073890",
     "status": "completed"
    },
    "tags": []
   },
   "source": [
    "2. Importação das bibliotecas e carregamento dos dados"
   ]
  },
  {
   "cell_type": "code",
   "execution_count": 1,
   "id": "b0815fff",
   "metadata": {
    "execution": {
     "iopub.execute_input": "2024-01-09T23:19:09.111744Z",
     "iopub.status.busy": "2024-01-09T23:19:09.110937Z",
     "iopub.status.idle": "2024-01-09T23:19:10.952313Z",
     "shell.execute_reply": "2024-01-09T23:19:10.951220Z"
    },
    "papermill": {
     "duration": 1.85754,
     "end_time": "2024-01-09T23:19:10.954839",
     "exception": false,
     "start_time": "2024-01-09T23:19:09.097299",
     "status": "completed"
    },
    "tags": []
   },
   "outputs": [],
   "source": [
    "import seaborn as sns\n",
    "import pandas as pd\n",
    "\n",
    "df = pd.read_csv('/kaggle/input/credito/credito_local.csv')"
   ]
  },
  {
   "cell_type": "markdown",
   "id": "84d6e122",
   "metadata": {
    "papermill": {
     "duration": 0.011502,
     "end_time": "2024-01-09T23:19:10.978599",
     "exception": false,
     "start_time": "2024-01-09T23:19:10.967097",
     "status": "completed"
    },
    "tags": []
   },
   "source": [
    "3. Explorando e conhecendo os dados"
   ]
  },
  {
   "cell_type": "code",
   "execution_count": 2,
   "id": "2ed63a56",
   "metadata": {
    "execution": {
     "iopub.execute_input": "2024-01-09T23:19:11.005016Z",
     "iopub.status.busy": "2024-01-09T23:19:11.004081Z",
     "iopub.status.idle": "2024-01-09T23:19:11.037017Z",
     "shell.execute_reply": "2024-01-09T23:19:11.036076Z"
    },
    "papermill": {
     "duration": 0.049277,
     "end_time": "2024-01-09T23:19:11.039701",
     "exception": false,
     "start_time": "2024-01-09T23:19:10.990424",
     "status": "completed"
    },
    "tags": []
   },
   "outputs": [
    {
     "data": {
      "text/html": [
       "<div>\n",
       "<style scoped>\n",
       "    .dataframe tbody tr th:only-of-type {\n",
       "        vertical-align: middle;\n",
       "    }\n",
       "\n",
       "    .dataframe tbody tr th {\n",
       "        vertical-align: top;\n",
       "    }\n",
       "\n",
       "    .dataframe thead th {\n",
       "        text-align: right;\n",
       "    }\n",
       "</style>\n",
       "<table border=\"1\" class=\"dataframe\">\n",
       "  <thead>\n",
       "    <tr style=\"text-align: right;\">\n",
       "      <th></th>\n",
       "      <th>id</th>\n",
       "      <th>default</th>\n",
       "      <th>idade</th>\n",
       "      <th>sexo</th>\n",
       "      <th>dependentes</th>\n",
       "      <th>escolaridade</th>\n",
       "      <th>estado_civil</th>\n",
       "      <th>salario_anual</th>\n",
       "      <th>tipo_cartao</th>\n",
       "      <th>meses_de_relacionamento</th>\n",
       "      <th>qtd_produtos</th>\n",
       "      <th>iteracoes_12m</th>\n",
       "      <th>meses_inativo_12m</th>\n",
       "      <th>limite_credito</th>\n",
       "      <th>valor_transacoes_12m</th>\n",
       "      <th>qtd_transacoes_12m</th>\n",
       "    </tr>\n",
       "  </thead>\n",
       "  <tbody>\n",
       "    <tr>\n",
       "      <th>0</th>\n",
       "      <td>768805383</td>\n",
       "      <td>0</td>\n",
       "      <td>45</td>\n",
       "      <td>M</td>\n",
       "      <td>3</td>\n",
       "      <td>ensino medio</td>\n",
       "      <td>casado</td>\n",
       "      <td>$60K - $80K</td>\n",
       "      <td>blue</td>\n",
       "      <td>39</td>\n",
       "      <td>5</td>\n",
       "      <td>3</td>\n",
       "      <td>1</td>\n",
       "      <td>12.691,51</td>\n",
       "      <td>1.144,90</td>\n",
       "      <td>42</td>\n",
       "    </tr>\n",
       "    <tr>\n",
       "      <th>1</th>\n",
       "      <td>818770008</td>\n",
       "      <td>0</td>\n",
       "      <td>49</td>\n",
       "      <td>F</td>\n",
       "      <td>5</td>\n",
       "      <td>mestrado</td>\n",
       "      <td>solteiro</td>\n",
       "      <td>menos que $40K</td>\n",
       "      <td>blue</td>\n",
       "      <td>44</td>\n",
       "      <td>6</td>\n",
       "      <td>2</td>\n",
       "      <td>1</td>\n",
       "      <td>8.256,96</td>\n",
       "      <td>1.291,45</td>\n",
       "      <td>33</td>\n",
       "    </tr>\n",
       "    <tr>\n",
       "      <th>2</th>\n",
       "      <td>713982108</td>\n",
       "      <td>0</td>\n",
       "      <td>51</td>\n",
       "      <td>M</td>\n",
       "      <td>3</td>\n",
       "      <td>mestrado</td>\n",
       "      <td>casado</td>\n",
       "      <td>$80K - $120K</td>\n",
       "      <td>blue</td>\n",
       "      <td>36</td>\n",
       "      <td>4</td>\n",
       "      <td>0</td>\n",
       "      <td>1</td>\n",
       "      <td>3.418,56</td>\n",
       "      <td>1.887,72</td>\n",
       "      <td>20</td>\n",
       "    </tr>\n",
       "    <tr>\n",
       "      <th>3</th>\n",
       "      <td>769911858</td>\n",
       "      <td>0</td>\n",
       "      <td>40</td>\n",
       "      <td>F</td>\n",
       "      <td>4</td>\n",
       "      <td>ensino medio</td>\n",
       "      <td>na</td>\n",
       "      <td>menos que $40K</td>\n",
       "      <td>blue</td>\n",
       "      <td>34</td>\n",
       "      <td>3</td>\n",
       "      <td>1</td>\n",
       "      <td>4</td>\n",
       "      <td>3.313,03</td>\n",
       "      <td>1.171,56</td>\n",
       "      <td>20</td>\n",
       "    </tr>\n",
       "    <tr>\n",
       "      <th>4</th>\n",
       "      <td>709106358</td>\n",
       "      <td>0</td>\n",
       "      <td>40</td>\n",
       "      <td>M</td>\n",
       "      <td>3</td>\n",
       "      <td>sem educacao formal</td>\n",
       "      <td>casado</td>\n",
       "      <td>$60K - $80K</td>\n",
       "      <td>blue</td>\n",
       "      <td>21</td>\n",
       "      <td>5</td>\n",
       "      <td>0</td>\n",
       "      <td>1</td>\n",
       "      <td>4.716,22</td>\n",
       "      <td>816,08</td>\n",
       "      <td>28</td>\n",
       "    </tr>\n",
       "    <tr>\n",
       "      <th>5</th>\n",
       "      <td>713061558</td>\n",
       "      <td>0</td>\n",
       "      <td>44</td>\n",
       "      <td>M</td>\n",
       "      <td>2</td>\n",
       "      <td>mestrado</td>\n",
       "      <td>casado</td>\n",
       "      <td>$40K - $60K</td>\n",
       "      <td>blue</td>\n",
       "      <td>36</td>\n",
       "      <td>3</td>\n",
       "      <td>2</td>\n",
       "      <td>1</td>\n",
       "      <td>4.010,69</td>\n",
       "      <td>1.088,07</td>\n",
       "      <td>24</td>\n",
       "    </tr>\n",
       "    <tr>\n",
       "      <th>6</th>\n",
       "      <td>810347208</td>\n",
       "      <td>0</td>\n",
       "      <td>51</td>\n",
       "      <td>M</td>\n",
       "      <td>4</td>\n",
       "      <td>na</td>\n",
       "      <td>casado</td>\n",
       "      <td>$120K +</td>\n",
       "      <td>gold</td>\n",
       "      <td>46</td>\n",
       "      <td>6</td>\n",
       "      <td>3</td>\n",
       "      <td>1</td>\n",
       "      <td>34.516,72</td>\n",
       "      <td>1.330,87</td>\n",
       "      <td>31</td>\n",
       "    </tr>\n",
       "    <tr>\n",
       "      <th>7</th>\n",
       "      <td>818906208</td>\n",
       "      <td>0</td>\n",
       "      <td>32</td>\n",
       "      <td>M</td>\n",
       "      <td>0</td>\n",
       "      <td>ensino medio</td>\n",
       "      <td>na</td>\n",
       "      <td>$60K - $80K</td>\n",
       "      <td>silver</td>\n",
       "      <td>27</td>\n",
       "      <td>2</td>\n",
       "      <td>2</td>\n",
       "      <td>2</td>\n",
       "      <td>29.081,49</td>\n",
       "      <td>1.538,32</td>\n",
       "      <td>36</td>\n",
       "    </tr>\n",
       "    <tr>\n",
       "      <th>8</th>\n",
       "      <td>710930508</td>\n",
       "      <td>0</td>\n",
       "      <td>37</td>\n",
       "      <td>M</td>\n",
       "      <td>3</td>\n",
       "      <td>sem educacao formal</td>\n",
       "      <td>solteiro</td>\n",
       "      <td>$60K - $80K</td>\n",
       "      <td>blue</td>\n",
       "      <td>36</td>\n",
       "      <td>5</td>\n",
       "      <td>0</td>\n",
       "      <td>2</td>\n",
       "      <td>22.352,50</td>\n",
       "      <td>1.350,14</td>\n",
       "      <td>24</td>\n",
       "    </tr>\n",
       "    <tr>\n",
       "      <th>9</th>\n",
       "      <td>719661558</td>\n",
       "      <td>0</td>\n",
       "      <td>48</td>\n",
       "      <td>M</td>\n",
       "      <td>2</td>\n",
       "      <td>mestrado</td>\n",
       "      <td>solteiro</td>\n",
       "      <td>$80K - $120K</td>\n",
       "      <td>blue</td>\n",
       "      <td>36</td>\n",
       "      <td>6</td>\n",
       "      <td>3</td>\n",
       "      <td>3</td>\n",
       "      <td>11.656,41</td>\n",
       "      <td>1.441,73</td>\n",
       "      <td>32</td>\n",
       "    </tr>\n",
       "  </tbody>\n",
       "</table>\n",
       "</div>"
      ],
      "text/plain": [
       "          id  default  idade sexo  dependentes         escolaridade  \\\n",
       "0  768805383        0     45    M            3         ensino medio   \n",
       "1  818770008        0     49    F            5             mestrado   \n",
       "2  713982108        0     51    M            3             mestrado   \n",
       "3  769911858        0     40    F            4         ensino medio   \n",
       "4  709106358        0     40    M            3  sem educacao formal   \n",
       "5  713061558        0     44    M            2             mestrado   \n",
       "6  810347208        0     51    M            4                   na   \n",
       "7  818906208        0     32    M            0         ensino medio   \n",
       "8  710930508        0     37    M            3  sem educacao formal   \n",
       "9  719661558        0     48    M            2             mestrado   \n",
       "\n",
       "  estado_civil   salario_anual tipo_cartao  meses_de_relacionamento  \\\n",
       "0       casado     $60K - $80K        blue                       39   \n",
       "1     solteiro  menos que $40K        blue                       44   \n",
       "2       casado    $80K - $120K        blue                       36   \n",
       "3           na  menos que $40K        blue                       34   \n",
       "4       casado     $60K - $80K        blue                       21   \n",
       "5       casado     $40K - $60K        blue                       36   \n",
       "6       casado         $120K +        gold                       46   \n",
       "7           na     $60K - $80K      silver                       27   \n",
       "8     solteiro     $60K - $80K        blue                       36   \n",
       "9     solteiro    $80K - $120K        blue                       36   \n",
       "\n",
       "   qtd_produtos  iteracoes_12m  meses_inativo_12m limite_credito  \\\n",
       "0             5              3                  1      12.691,51   \n",
       "1             6              2                  1       8.256,96   \n",
       "2             4              0                  1       3.418,56   \n",
       "3             3              1                  4       3.313,03   \n",
       "4             5              0                  1       4.716,22   \n",
       "5             3              2                  1       4.010,69   \n",
       "6             6              3                  1      34.516,72   \n",
       "7             2              2                  2      29.081,49   \n",
       "8             5              0                  2      22.352,50   \n",
       "9             6              3                  3      11.656,41   \n",
       "\n",
       "  valor_transacoes_12m  qtd_transacoes_12m  \n",
       "0             1.144,90                  42  \n",
       "1             1.291,45                  33  \n",
       "2             1.887,72                  20  \n",
       "3             1.171,56                  20  \n",
       "4               816,08                  28  \n",
       "5             1.088,07                  24  \n",
       "6             1.330,87                  31  \n",
       "7             1.538,32                  36  \n",
       "8             1.350,14                  24  \n",
       "9             1.441,73                  32  "
      ]
     },
     "execution_count": 2,
     "metadata": {},
     "output_type": "execute_result"
    }
   ],
   "source": [
    "#Breve visualização da base\n",
    "df.head(n=10)"
   ]
  },
  {
   "cell_type": "code",
   "execution_count": 3,
   "id": "f1bcbc4d",
   "metadata": {
    "execution": {
     "iopub.execute_input": "2024-01-09T23:19:11.067456Z",
     "iopub.status.busy": "2024-01-09T23:19:11.067068Z",
     "iopub.status.idle": "2024-01-09T23:19:11.078749Z",
     "shell.execute_reply": "2024-01-09T23:19:11.077720Z"
    },
    "papermill": {
     "duration": 0.028202,
     "end_time": "2024-01-09T23:19:11.081067",
     "exception": false,
     "start_time": "2024-01-09T23:19:11.052865",
     "status": "completed"
    },
    "tags": []
   },
   "outputs": [
    {
     "data": {
      "text/plain": [
       "(8500, 16)"
      ]
     },
     "execution_count": 3,
     "metadata": {},
     "output_type": "execute_result"
    }
   ],
   "source": [
    "#Analisando a proporção entre adimplentes e inadimplentes\n",
    "df[df['default'] == 0].shape"
   ]
  },
  {
   "cell_type": "code",
   "execution_count": 4,
   "id": "52243ecb",
   "metadata": {
    "execution": {
     "iopub.execute_input": "2024-01-09T23:19:11.107727Z",
     "iopub.status.busy": "2024-01-09T23:19:11.107267Z",
     "iopub.status.idle": "2024-01-09T23:19:11.116205Z",
     "shell.execute_reply": "2024-01-09T23:19:11.115042Z"
    },
    "papermill": {
     "duration": 0.024933,
     "end_time": "2024-01-09T23:19:11.118573",
     "exception": false,
     "start_time": "2024-01-09T23:19:11.093640",
     "status": "completed"
    },
    "tags": []
   },
   "outputs": [
    {
     "data": {
      "text/plain": [
       "(1627, 16)"
      ]
     },
     "execution_count": 4,
     "metadata": {},
     "output_type": "execute_result"
    }
   ],
   "source": [
    "df[df['default'] == 1].shape"
   ]
  },
  {
   "cell_type": "code",
   "execution_count": 5,
   "id": "efab4821",
   "metadata": {
    "execution": {
     "iopub.execute_input": "2024-01-09T23:19:11.145762Z",
     "iopub.status.busy": "2024-01-09T23:19:11.145378Z",
     "iopub.status.idle": "2024-01-09T23:19:11.153447Z",
     "shell.execute_reply": "2024-01-09T23:19:11.152681Z"
    },
    "papermill": {
     "duration": 0.024291,
     "end_time": "2024-01-09T23:19:11.155538",
     "exception": false,
     "start_time": "2024-01-09T23:19:11.131247",
     "status": "completed"
    },
    "tags": []
   },
   "outputs": [],
   "source": [
    "qtd_total, _ = df.shape\n",
    "qtd_adimplentes, _ = df[df['default'] == 0].shape\n",
    "qtd_inadimplentes, _ = df[df['default'] == 1].shape"
   ]
  },
  {
   "cell_type": "code",
   "execution_count": 6,
   "id": "62b65f30",
   "metadata": {
    "execution": {
     "iopub.execute_input": "2024-01-09T23:19:11.183091Z",
     "iopub.status.busy": "2024-01-09T23:19:11.182478Z",
     "iopub.status.idle": "2024-01-09T23:19:11.188570Z",
     "shell.execute_reply": "2024-01-09T23:19:11.186983Z"
    },
    "papermill": {
     "duration": 0.022762,
     "end_time": "2024-01-09T23:19:11.191050",
     "exception": false,
     "start_time": "2024-01-09T23:19:11.168288",
     "status": "completed"
    },
    "tags": []
   },
   "outputs": [
    {
     "name": "stdout",
     "output_type": "stream",
     "text": [
      "A proporcão clientes adimplentes é de 83.93%\n",
      "A proporcão clientes inadimplentes é de 16.07%\n"
     ]
    }
   ],
   "source": [
    "print(f\"A proporcão clientes adimplentes é de {round(100 * qtd_adimplentes / qtd_total, 2)}%\")\n",
    "print(f\"A proporcão clientes inadimplentes é de {round(100 * qtd_inadimplentes / qtd_total, 2)}%\")"
   ]
  },
  {
   "cell_type": "markdown",
   "id": "5fe5e4ed",
   "metadata": {
    "papermill": {
     "duration": 0.01406,
     "end_time": "2024-01-09T23:19:11.218311",
     "exception": false,
     "start_time": "2024-01-09T23:19:11.204251",
     "status": "completed"
    },
    "tags": []
   },
   "source": [
    "4. Limpeza e tranformação de dados necessários"
   ]
  },
  {
   "cell_type": "code",
   "execution_count": 7,
   "id": "b6bfffda",
   "metadata": {
    "execution": {
     "iopub.execute_input": "2024-01-09T23:19:11.246917Z",
     "iopub.status.busy": "2024-01-09T23:19:11.245709Z",
     "iopub.status.idle": "2024-01-09T23:19:11.254693Z",
     "shell.execute_reply": "2024-01-09T23:19:11.253639Z"
    },
    "papermill": {
     "duration": 0.025642,
     "end_time": "2024-01-09T23:19:11.256939",
     "exception": false,
     "start_time": "2024-01-09T23:19:11.231297",
     "status": "completed"
    },
    "tags": []
   },
   "outputs": [
    {
     "data": {
      "text/plain": [
       "id                          int64\n",
       "default                     int64\n",
       "idade                       int64\n",
       "sexo                       object\n",
       "dependentes                 int64\n",
       "escolaridade               object\n",
       "estado_civil               object\n",
       "salario_anual              object\n",
       "tipo_cartao                object\n",
       "meses_de_relacionamento     int64\n",
       "qtd_produtos                int64\n",
       "iteracoes_12m               int64\n",
       "meses_inativo_12m           int64\n",
       "limite_credito             object\n",
       "valor_transacoes_12m       object\n",
       "qtd_transacoes_12m          int64\n",
       "dtype: object"
      ]
     },
     "execution_count": 7,
     "metadata": {},
     "output_type": "execute_result"
    }
   ],
   "source": [
    "df.dtypes"
   ]
  },
  {
   "cell_type": "code",
   "execution_count": 8,
   "id": "255dcaa9",
   "metadata": {
    "execution": {
     "iopub.execute_input": "2024-01-09T23:19:11.285723Z",
     "iopub.status.busy": "2024-01-09T23:19:11.285085Z",
     "iopub.status.idle": "2024-01-09T23:19:11.419220Z",
     "shell.execute_reply": "2024-01-09T23:19:11.418132Z"
    },
    "papermill": {
     "duration": 0.151696,
     "end_time": "2024-01-09T23:19:11.421696",
     "exception": false,
     "start_time": "2024-01-09T23:19:11.270000",
     "status": "completed"
    },
    "tags": []
   },
   "outputs": [
    {
     "data": {
      "text/html": [
       "<div>\n",
       "<style scoped>\n",
       "    .dataframe tbody tr th:only-of-type {\n",
       "        vertical-align: middle;\n",
       "    }\n",
       "\n",
       "    .dataframe tbody tr th {\n",
       "        vertical-align: top;\n",
       "    }\n",
       "\n",
       "    .dataframe thead th {\n",
       "        text-align: right;\n",
       "    }\n",
       "</style>\n",
       "<table border=\"1\" class=\"dataframe\">\n",
       "  <thead>\n",
       "    <tr style=\"text-align: right;\">\n",
       "      <th></th>\n",
       "      <th>count</th>\n",
       "      <th>unique</th>\n",
       "      <th>top</th>\n",
       "      <th>freq</th>\n",
       "    </tr>\n",
       "  </thead>\n",
       "  <tbody>\n",
       "    <tr>\n",
       "      <th>sexo</th>\n",
       "      <td>10127</td>\n",
       "      <td>2</td>\n",
       "      <td>F</td>\n",
       "      <td>5358</td>\n",
       "    </tr>\n",
       "    <tr>\n",
       "      <th>escolaridade</th>\n",
       "      <td>10127</td>\n",
       "      <td>6</td>\n",
       "      <td>mestrado</td>\n",
       "      <td>3128</td>\n",
       "    </tr>\n",
       "    <tr>\n",
       "      <th>estado_civil</th>\n",
       "      <td>10127</td>\n",
       "      <td>4</td>\n",
       "      <td>casado</td>\n",
       "      <td>4687</td>\n",
       "    </tr>\n",
       "    <tr>\n",
       "      <th>salario_anual</th>\n",
       "      <td>10127</td>\n",
       "      <td>6</td>\n",
       "      <td>menos que $40K</td>\n",
       "      <td>3561</td>\n",
       "    </tr>\n",
       "    <tr>\n",
       "      <th>tipo_cartao</th>\n",
       "      <td>10127</td>\n",
       "      <td>4</td>\n",
       "      <td>blue</td>\n",
       "      <td>9436</td>\n",
       "    </tr>\n",
       "    <tr>\n",
       "      <th>limite_credito</th>\n",
       "      <td>10127</td>\n",
       "      <td>9272</td>\n",
       "      <td>1.438,21</td>\n",
       "      <td>11</td>\n",
       "    </tr>\n",
       "    <tr>\n",
       "      <th>valor_transacoes_12m</th>\n",
       "      <td>10127</td>\n",
       "      <td>10035</td>\n",
       "      <td>3.851,51</td>\n",
       "      <td>3</td>\n",
       "    </tr>\n",
       "  </tbody>\n",
       "</table>\n",
       "</div>"
      ],
      "text/plain": [
       "                      count unique             top  freq\n",
       "sexo                  10127      2               F  5358\n",
       "escolaridade          10127      6        mestrado  3128\n",
       "estado_civil          10127      4          casado  4687\n",
       "salario_anual         10127      6  menos que $40K  3561\n",
       "tipo_cartao           10127      4            blue  9436\n",
       "limite_credito        10127   9272        1.438,21    11\n",
       "valor_transacoes_12m  10127  10035        3.851,51     3"
      ]
     },
     "execution_count": 8,
     "metadata": {},
     "output_type": "execute_result"
    }
   ],
   "source": [
    "df.select_dtypes('object').describe().transpose()"
   ]
  },
  {
   "cell_type": "code",
   "execution_count": 9,
   "id": "40e22b19",
   "metadata": {
    "execution": {
     "iopub.execute_input": "2024-01-09T23:19:11.450117Z",
     "iopub.status.busy": "2024-01-09T23:19:11.449314Z",
     "iopub.status.idle": "2024-01-09T23:19:11.496467Z",
     "shell.execute_reply": "2024-01-09T23:19:11.495204Z"
    },
    "papermill": {
     "duration": 0.064028,
     "end_time": "2024-01-09T23:19:11.498968",
     "exception": false,
     "start_time": "2024-01-09T23:19:11.434940",
     "status": "completed"
    },
    "tags": []
   },
   "outputs": [
    {
     "data": {
      "text/html": [
       "<div>\n",
       "<style scoped>\n",
       "    .dataframe tbody tr th:only-of-type {\n",
       "        vertical-align: middle;\n",
       "    }\n",
       "\n",
       "    .dataframe tbody tr th {\n",
       "        vertical-align: top;\n",
       "    }\n",
       "\n",
       "    .dataframe thead th {\n",
       "        text-align: right;\n",
       "    }\n",
       "</style>\n",
       "<table border=\"1\" class=\"dataframe\">\n",
       "  <thead>\n",
       "    <tr style=\"text-align: right;\">\n",
       "      <th></th>\n",
       "      <th>count</th>\n",
       "      <th>mean</th>\n",
       "      <th>std</th>\n",
       "      <th>min</th>\n",
       "      <th>25%</th>\n",
       "      <th>50%</th>\n",
       "      <th>75%</th>\n",
       "      <th>max</th>\n",
       "    </tr>\n",
       "  </thead>\n",
       "  <tbody>\n",
       "    <tr>\n",
       "      <th>default</th>\n",
       "      <td>10127.0</td>\n",
       "      <td>0.160660</td>\n",
       "      <td>0.367235</td>\n",
       "      <td>0.0</td>\n",
       "      <td>0.0</td>\n",
       "      <td>0.0</td>\n",
       "      <td>0.0</td>\n",
       "      <td>1.0</td>\n",
       "    </tr>\n",
       "    <tr>\n",
       "      <th>idade</th>\n",
       "      <td>10127.0</td>\n",
       "      <td>46.325960</td>\n",
       "      <td>8.016814</td>\n",
       "      <td>26.0</td>\n",
       "      <td>41.0</td>\n",
       "      <td>46.0</td>\n",
       "      <td>52.0</td>\n",
       "      <td>73.0</td>\n",
       "    </tr>\n",
       "    <tr>\n",
       "      <th>dependentes</th>\n",
       "      <td>10127.0</td>\n",
       "      <td>2.346203</td>\n",
       "      <td>1.298908</td>\n",
       "      <td>0.0</td>\n",
       "      <td>1.0</td>\n",
       "      <td>2.0</td>\n",
       "      <td>3.0</td>\n",
       "      <td>5.0</td>\n",
       "    </tr>\n",
       "    <tr>\n",
       "      <th>meses_de_relacionamento</th>\n",
       "      <td>10127.0</td>\n",
       "      <td>35.928409</td>\n",
       "      <td>7.986416</td>\n",
       "      <td>13.0</td>\n",
       "      <td>31.0</td>\n",
       "      <td>36.0</td>\n",
       "      <td>40.0</td>\n",
       "      <td>56.0</td>\n",
       "    </tr>\n",
       "    <tr>\n",
       "      <th>qtd_produtos</th>\n",
       "      <td>10127.0</td>\n",
       "      <td>3.812580</td>\n",
       "      <td>1.554408</td>\n",
       "      <td>1.0</td>\n",
       "      <td>3.0</td>\n",
       "      <td>4.0</td>\n",
       "      <td>5.0</td>\n",
       "      <td>6.0</td>\n",
       "    </tr>\n",
       "    <tr>\n",
       "      <th>iteracoes_12m</th>\n",
       "      <td>10127.0</td>\n",
       "      <td>2.455317</td>\n",
       "      <td>1.106225</td>\n",
       "      <td>0.0</td>\n",
       "      <td>2.0</td>\n",
       "      <td>2.0</td>\n",
       "      <td>3.0</td>\n",
       "      <td>6.0</td>\n",
       "    </tr>\n",
       "    <tr>\n",
       "      <th>meses_inativo_12m</th>\n",
       "      <td>10127.0</td>\n",
       "      <td>2.341167</td>\n",
       "      <td>1.010622</td>\n",
       "      <td>0.0</td>\n",
       "      <td>2.0</td>\n",
       "      <td>2.0</td>\n",
       "      <td>3.0</td>\n",
       "      <td>6.0</td>\n",
       "    </tr>\n",
       "    <tr>\n",
       "      <th>qtd_transacoes_12m</th>\n",
       "      <td>10127.0</td>\n",
       "      <td>64.858695</td>\n",
       "      <td>23.472570</td>\n",
       "      <td>10.0</td>\n",
       "      <td>45.0</td>\n",
       "      <td>67.0</td>\n",
       "      <td>81.0</td>\n",
       "      <td>139.0</td>\n",
       "    </tr>\n",
       "  </tbody>\n",
       "</table>\n",
       "</div>"
      ],
      "text/plain": [
       "                           count       mean        std   min   25%   50%  \\\n",
       "default                  10127.0   0.160660   0.367235   0.0   0.0   0.0   \n",
       "idade                    10127.0  46.325960   8.016814  26.0  41.0  46.0   \n",
       "dependentes              10127.0   2.346203   1.298908   0.0   1.0   2.0   \n",
       "meses_de_relacionamento  10127.0  35.928409   7.986416  13.0  31.0  36.0   \n",
       "qtd_produtos             10127.0   3.812580   1.554408   1.0   3.0   4.0   \n",
       "iteracoes_12m            10127.0   2.455317   1.106225   0.0   2.0   2.0   \n",
       "meses_inativo_12m        10127.0   2.341167   1.010622   0.0   2.0   2.0   \n",
       "qtd_transacoes_12m       10127.0  64.858695  23.472570  10.0  45.0  67.0   \n",
       "\n",
       "                          75%    max  \n",
       "default                   0.0    1.0  \n",
       "idade                    52.0   73.0  \n",
       "dependentes               3.0    5.0  \n",
       "meses_de_relacionamento  40.0   56.0  \n",
       "qtd_produtos              5.0    6.0  \n",
       "iteracoes_12m             3.0    6.0  \n",
       "meses_inativo_12m         3.0    6.0  \n",
       "qtd_transacoes_12m       81.0  139.0  "
      ]
     },
     "execution_count": 9,
     "metadata": {},
     "output_type": "execute_result"
    }
   ],
   "source": [
    "df.drop('id', axis=1).select_dtypes('number').describe().transpose()"
   ]
  },
  {
   "cell_type": "code",
   "execution_count": 10,
   "id": "88f1457b",
   "metadata": {
    "execution": {
     "iopub.execute_input": "2024-01-09T23:19:11.527558Z",
     "iopub.status.busy": "2024-01-09T23:19:11.527152Z",
     "iopub.status.idle": "2024-01-09T23:19:11.545782Z",
     "shell.execute_reply": "2024-01-09T23:19:11.544573Z"
    },
    "papermill": {
     "duration": 0.035946,
     "end_time": "2024-01-09T23:19:11.548491",
     "exception": false,
     "start_time": "2024-01-09T23:19:11.512545",
     "status": "completed"
    },
    "tags": []
   },
   "outputs": [
    {
     "data": {
      "text/html": [
       "<div>\n",
       "<style scoped>\n",
       "    .dataframe tbody tr th:only-of-type {\n",
       "        vertical-align: middle;\n",
       "    }\n",
       "\n",
       "    .dataframe tbody tr th {\n",
       "        vertical-align: top;\n",
       "    }\n",
       "\n",
       "    .dataframe thead th {\n",
       "        text-align: right;\n",
       "    }\n",
       "</style>\n",
       "<table border=\"1\" class=\"dataframe\">\n",
       "  <thead>\n",
       "    <tr style=\"text-align: right;\">\n",
       "      <th></th>\n",
       "      <th>id</th>\n",
       "      <th>default</th>\n",
       "      <th>idade</th>\n",
       "      <th>sexo</th>\n",
       "      <th>dependentes</th>\n",
       "      <th>escolaridade</th>\n",
       "      <th>estado_civil</th>\n",
       "      <th>salario_anual</th>\n",
       "      <th>tipo_cartao</th>\n",
       "      <th>meses_de_relacionamento</th>\n",
       "      <th>qtd_produtos</th>\n",
       "      <th>iteracoes_12m</th>\n",
       "      <th>meses_inativo_12m</th>\n",
       "      <th>limite_credito</th>\n",
       "      <th>valor_transacoes_12m</th>\n",
       "      <th>qtd_transacoes_12m</th>\n",
       "    </tr>\n",
       "  </thead>\n",
       "  <tbody>\n",
       "    <tr>\n",
       "      <th>0</th>\n",
       "      <td>768805383</td>\n",
       "      <td>0</td>\n",
       "      <td>45</td>\n",
       "      <td>M</td>\n",
       "      <td>3</td>\n",
       "      <td>ensino medio</td>\n",
       "      <td>casado</td>\n",
       "      <td>$60K - $80K</td>\n",
       "      <td>blue</td>\n",
       "      <td>39</td>\n",
       "      <td>5</td>\n",
       "      <td>3</td>\n",
       "      <td>1</td>\n",
       "      <td>12.691,51</td>\n",
       "      <td>1.144,90</td>\n",
       "      <td>42</td>\n",
       "    </tr>\n",
       "    <tr>\n",
       "      <th>1</th>\n",
       "      <td>818770008</td>\n",
       "      <td>0</td>\n",
       "      <td>49</td>\n",
       "      <td>F</td>\n",
       "      <td>5</td>\n",
       "      <td>mestrado</td>\n",
       "      <td>solteiro</td>\n",
       "      <td>menos que $40K</td>\n",
       "      <td>blue</td>\n",
       "      <td>44</td>\n",
       "      <td>6</td>\n",
       "      <td>2</td>\n",
       "      <td>1</td>\n",
       "      <td>8.256,96</td>\n",
       "      <td>1.291,45</td>\n",
       "      <td>33</td>\n",
       "    </tr>\n",
       "    <tr>\n",
       "      <th>2</th>\n",
       "      <td>713982108</td>\n",
       "      <td>0</td>\n",
       "      <td>51</td>\n",
       "      <td>M</td>\n",
       "      <td>3</td>\n",
       "      <td>mestrado</td>\n",
       "      <td>casado</td>\n",
       "      <td>$80K - $120K</td>\n",
       "      <td>blue</td>\n",
       "      <td>36</td>\n",
       "      <td>4</td>\n",
       "      <td>0</td>\n",
       "      <td>1</td>\n",
       "      <td>3.418,56</td>\n",
       "      <td>1.887,72</td>\n",
       "      <td>20</td>\n",
       "    </tr>\n",
       "    <tr>\n",
       "      <th>3</th>\n",
       "      <td>769911858</td>\n",
       "      <td>0</td>\n",
       "      <td>40</td>\n",
       "      <td>F</td>\n",
       "      <td>4</td>\n",
       "      <td>ensino medio</td>\n",
       "      <td>na</td>\n",
       "      <td>menos que $40K</td>\n",
       "      <td>blue</td>\n",
       "      <td>34</td>\n",
       "      <td>3</td>\n",
       "      <td>1</td>\n",
       "      <td>4</td>\n",
       "      <td>3.313,03</td>\n",
       "      <td>1.171,56</td>\n",
       "      <td>20</td>\n",
       "    </tr>\n",
       "    <tr>\n",
       "      <th>4</th>\n",
       "      <td>709106358</td>\n",
       "      <td>0</td>\n",
       "      <td>40</td>\n",
       "      <td>M</td>\n",
       "      <td>3</td>\n",
       "      <td>sem educacao formal</td>\n",
       "      <td>casado</td>\n",
       "      <td>$60K - $80K</td>\n",
       "      <td>blue</td>\n",
       "      <td>21</td>\n",
       "      <td>5</td>\n",
       "      <td>0</td>\n",
       "      <td>1</td>\n",
       "      <td>4.716,22</td>\n",
       "      <td>816,08</td>\n",
       "      <td>28</td>\n",
       "    </tr>\n",
       "  </tbody>\n",
       "</table>\n",
       "</div>"
      ],
      "text/plain": [
       "          id  default  idade sexo  dependentes         escolaridade  \\\n",
       "0  768805383        0     45    M            3         ensino medio   \n",
       "1  818770008        0     49    F            5             mestrado   \n",
       "2  713982108        0     51    M            3             mestrado   \n",
       "3  769911858        0     40    F            4         ensino medio   \n",
       "4  709106358        0     40    M            3  sem educacao formal   \n",
       "\n",
       "  estado_civil   salario_anual tipo_cartao  meses_de_relacionamento  \\\n",
       "0       casado     $60K - $80K        blue                       39   \n",
       "1     solteiro  menos que $40K        blue                       44   \n",
       "2       casado    $80K - $120K        blue                       36   \n",
       "3           na  menos que $40K        blue                       34   \n",
       "4       casado     $60K - $80K        blue                       21   \n",
       "\n",
       "   qtd_produtos  iteracoes_12m  meses_inativo_12m limite_credito  \\\n",
       "0             5              3                  1      12.691,51   \n",
       "1             6              2                  1       8.256,96   \n",
       "2             4              0                  1       3.418,56   \n",
       "3             3              1                  4       3.313,03   \n",
       "4             5              0                  1       4.716,22   \n",
       "\n",
       "  valor_transacoes_12m  qtd_transacoes_12m  \n",
       "0             1.144,90                  42  \n",
       "1             1.291,45                  33  \n",
       "2             1.887,72                  20  \n",
       "3             1.171,56                  20  \n",
       "4               816,08                  28  "
      ]
     },
     "execution_count": 10,
     "metadata": {},
     "output_type": "execute_result"
    }
   ],
   "source": [
    "df.head()"
   ]
  },
  {
   "cell_type": "code",
   "execution_count": 11,
   "id": "a356873e",
   "metadata": {
    "execution": {
     "iopub.execute_input": "2024-01-09T23:19:11.579454Z",
     "iopub.status.busy": "2024-01-09T23:19:11.579040Z",
     "iopub.status.idle": "2024-01-09T23:19:11.596437Z",
     "shell.execute_reply": "2024-01-09T23:19:11.595266Z"
    },
    "papermill": {
     "duration": 0.035182,
     "end_time": "2024-01-09T23:19:11.598726",
     "exception": false,
     "start_time": "2024-01-09T23:19:11.563544",
     "status": "completed"
    },
    "tags": []
   },
   "outputs": [
    {
     "data": {
      "text/plain": [
       "id                         False\n",
       "default                    False\n",
       "idade                      False\n",
       "sexo                       False\n",
       "dependentes                False\n",
       "escolaridade               False\n",
       "estado_civil               False\n",
       "salario_anual              False\n",
       "tipo_cartao                False\n",
       "meses_de_relacionamento    False\n",
       "qtd_produtos               False\n",
       "iteracoes_12m              False\n",
       "meses_inativo_12m          False\n",
       "limite_credito             False\n",
       "valor_transacoes_12m       False\n",
       "qtd_transacoes_12m         False\n",
       "dtype: bool"
      ]
     },
     "execution_count": 11,
     "metadata": {},
     "output_type": "execute_result"
    }
   ],
   "source": [
    "#verificando dados faltantes\n",
    "df.isna().any()"
   ]
  },
  {
   "cell_type": "code",
   "execution_count": 12,
   "id": "8783c1a7",
   "metadata": {
    "execution": {
     "iopub.execute_input": "2024-01-09T23:19:11.628900Z",
     "iopub.status.busy": "2024-01-09T23:19:11.628511Z",
     "iopub.status.idle": "2024-01-09T23:19:11.636046Z",
     "shell.execute_reply": "2024-01-09T23:19:11.634903Z"
    },
    "papermill": {
     "duration": 0.025349,
     "end_time": "2024-01-09T23:19:11.638314",
     "exception": false,
     "start_time": "2024-01-09T23:19:11.612965",
     "status": "completed"
    },
    "tags": []
   },
   "outputs": [],
   "source": [
    "#explorando as colunas com dados faltantes\n",
    "def stats_dados_faltantes(df: pd.DataFrame) -> None:\n",
    "\n",
    "  stats_dados_faltantes = []\n",
    "  for col in df.columns:\n",
    "    if df[col].isna().any():\n",
    "      qtd, _ = df[df[col].isna()].shape\n",
    "      total, _ = df.shape\n",
    "      dict_dados_faltantes = {col: {'quantidade': qtd, \"porcentagem\": round(100 * qtd/total, 2)}}\n",
    "      stats_dados_faltantes.append(dict_dados_faltantes)\n",
    "\n",
    "  for stat in stats_dados_faltantes:\n",
    "    print(stat)"
   ]
  },
  {
   "cell_type": "code",
   "execution_count": 13,
   "id": "8d3043e9",
   "metadata": {
    "execution": {
     "iopub.execute_input": "2024-01-09T23:19:11.668552Z",
     "iopub.status.busy": "2024-01-09T23:19:11.668164Z",
     "iopub.status.idle": "2024-01-09T23:19:11.684347Z",
     "shell.execute_reply": "2024-01-09T23:19:11.683229Z"
    },
    "papermill": {
     "duration": 0.034029,
     "end_time": "2024-01-09T23:19:11.686540",
     "exception": false,
     "start_time": "2024-01-09T23:19:11.652511",
     "status": "completed"
    },
    "tags": []
   },
   "outputs": [],
   "source": [
    "stats_dados_faltantes(df=df)"
   ]
  },
  {
   "cell_type": "code",
   "execution_count": 14,
   "id": "c9d90566",
   "metadata": {
    "execution": {
     "iopub.execute_input": "2024-01-09T23:19:11.716711Z",
     "iopub.status.busy": "2024-01-09T23:19:11.716319Z",
     "iopub.status.idle": "2024-01-09T23:19:11.733627Z",
     "shell.execute_reply": "2024-01-09T23:19:11.732473Z"
    },
    "papermill": {
     "duration": 0.035127,
     "end_time": "2024-01-09T23:19:11.735994",
     "exception": false,
     "start_time": "2024-01-09T23:19:11.700867",
     "status": "completed"
    },
    "tags": []
   },
   "outputs": [],
   "source": [
    "stats_dados_faltantes(df=df[df['default'] == 0])"
   ]
  },
  {
   "cell_type": "code",
   "execution_count": 15,
   "id": "2a4f8eae",
   "metadata": {
    "execution": {
     "iopub.execute_input": "2024-01-09T23:19:11.766680Z",
     "iopub.status.busy": "2024-01-09T23:19:11.766195Z",
     "iopub.status.idle": "2024-01-09T23:19:11.778608Z",
     "shell.execute_reply": "2024-01-09T23:19:11.777490Z"
    },
    "papermill": {
     "duration": 0.030744,
     "end_time": "2024-01-09T23:19:11.781144",
     "exception": false,
     "start_time": "2024-01-09T23:19:11.750400",
     "status": "completed"
    },
    "tags": []
   },
   "outputs": [],
   "source": [
    "stats_dados_faltantes(df=df[df['default'] == 1])"
   ]
  },
  {
   "cell_type": "code",
   "execution_count": 16,
   "id": "d3235c43",
   "metadata": {
    "execution": {
     "iopub.execute_input": "2024-01-09T23:19:11.811209Z",
     "iopub.status.busy": "2024-01-09T23:19:11.810791Z",
     "iopub.status.idle": "2024-01-09T23:19:11.836393Z",
     "shell.execute_reply": "2024-01-09T23:19:11.835205Z"
    },
    "papermill": {
     "duration": 0.043985,
     "end_time": "2024-01-09T23:19:11.839325",
     "exception": false,
     "start_time": "2024-01-09T23:19:11.795340",
     "status": "completed"
    },
    "tags": []
   },
   "outputs": [],
   "source": [
    "#corrigindo tipos de dados necessários\n",
    "df['valor_transacoes_12m'] = df['valor_transacoes_12m'].apply(lambda valor: float(valor.replace(\".\", \"\").replace(\",\", \".\")))\n",
    "df['limite_credito'] = df['limite_credito'].apply(lambda valor: float(valor.replace(\".\", \"\").replace(\",\", \".\")))"
   ]
  },
  {
   "cell_type": "code",
   "execution_count": 17,
   "id": "9c212050",
   "metadata": {
    "execution": {
     "iopub.execute_input": "2024-01-09T23:19:11.870178Z",
     "iopub.status.busy": "2024-01-09T23:19:11.869529Z",
     "iopub.status.idle": "2024-01-09T23:19:11.877646Z",
     "shell.execute_reply": "2024-01-09T23:19:11.876590Z"
    },
    "papermill": {
     "duration": 0.02587,
     "end_time": "2024-01-09T23:19:11.879741",
     "exception": false,
     "start_time": "2024-01-09T23:19:11.853871",
     "status": "completed"
    },
    "tags": []
   },
   "outputs": [
    {
     "data": {
      "text/plain": [
       "id                           int64\n",
       "default                      int64\n",
       "idade                        int64\n",
       "sexo                        object\n",
       "dependentes                  int64\n",
       "escolaridade                object\n",
       "estado_civil                object\n",
       "salario_anual               object\n",
       "tipo_cartao                 object\n",
       "meses_de_relacionamento      int64\n",
       "qtd_produtos                 int64\n",
       "iteracoes_12m                int64\n",
       "meses_inativo_12m            int64\n",
       "limite_credito             float64\n",
       "valor_transacoes_12m       float64\n",
       "qtd_transacoes_12m           int64\n",
       "dtype: object"
      ]
     },
     "execution_count": 17,
     "metadata": {},
     "output_type": "execute_result"
    }
   ],
   "source": [
    "#confirmando as alterações\n",
    "df.dtypes"
   ]
  },
  {
   "cell_type": "code",
   "execution_count": 18,
   "id": "420716dc",
   "metadata": {
    "execution": {
     "iopub.execute_input": "2024-01-09T23:19:11.910575Z",
     "iopub.status.busy": "2024-01-09T23:19:11.909841Z",
     "iopub.status.idle": "2024-01-09T23:19:11.941366Z",
     "shell.execute_reply": "2024-01-09T23:19:11.940264Z"
    },
    "papermill": {
     "duration": 0.049901,
     "end_time": "2024-01-09T23:19:11.943852",
     "exception": false,
     "start_time": "2024-01-09T23:19:11.893951",
     "status": "completed"
    },
    "tags": []
   },
   "outputs": [
    {
     "data": {
      "text/html": [
       "<div>\n",
       "<style scoped>\n",
       "    .dataframe tbody tr th:only-of-type {\n",
       "        vertical-align: middle;\n",
       "    }\n",
       "\n",
       "    .dataframe tbody tr th {\n",
       "        vertical-align: top;\n",
       "    }\n",
       "\n",
       "    .dataframe thead th {\n",
       "        text-align: right;\n",
       "    }\n",
       "</style>\n",
       "<table border=\"1\" class=\"dataframe\">\n",
       "  <thead>\n",
       "    <tr style=\"text-align: right;\">\n",
       "      <th></th>\n",
       "      <th>count</th>\n",
       "      <th>unique</th>\n",
       "      <th>top</th>\n",
       "      <th>freq</th>\n",
       "    </tr>\n",
       "  </thead>\n",
       "  <tbody>\n",
       "    <tr>\n",
       "      <th>sexo</th>\n",
       "      <td>10127</td>\n",
       "      <td>2</td>\n",
       "      <td>F</td>\n",
       "      <td>5358</td>\n",
       "    </tr>\n",
       "    <tr>\n",
       "      <th>escolaridade</th>\n",
       "      <td>10127</td>\n",
       "      <td>6</td>\n",
       "      <td>mestrado</td>\n",
       "      <td>3128</td>\n",
       "    </tr>\n",
       "    <tr>\n",
       "      <th>estado_civil</th>\n",
       "      <td>10127</td>\n",
       "      <td>4</td>\n",
       "      <td>casado</td>\n",
       "      <td>4687</td>\n",
       "    </tr>\n",
       "    <tr>\n",
       "      <th>salario_anual</th>\n",
       "      <td>10127</td>\n",
       "      <td>6</td>\n",
       "      <td>menos que $40K</td>\n",
       "      <td>3561</td>\n",
       "    </tr>\n",
       "    <tr>\n",
       "      <th>tipo_cartao</th>\n",
       "      <td>10127</td>\n",
       "      <td>4</td>\n",
       "      <td>blue</td>\n",
       "      <td>9436</td>\n",
       "    </tr>\n",
       "  </tbody>\n",
       "</table>\n",
       "</div>"
      ],
      "text/plain": [
       "               count unique             top  freq\n",
       "sexo           10127      2               F  5358\n",
       "escolaridade   10127      6        mestrado  3128\n",
       "estado_civil   10127      4          casado  4687\n",
       "salario_anual  10127      6  menos que $40K  3561\n",
       "tipo_cartao    10127      4            blue  9436"
      ]
     },
     "execution_count": 18,
     "metadata": {},
     "output_type": "execute_result"
    }
   ],
   "source": [
    "df.select_dtypes('object').describe().transpose()"
   ]
  },
  {
   "cell_type": "code",
   "execution_count": 19,
   "id": "cea57726",
   "metadata": {
    "execution": {
     "iopub.execute_input": "2024-01-09T23:19:12.037251Z",
     "iopub.status.busy": "2024-01-09T23:19:12.036842Z",
     "iopub.status.idle": "2024-01-09T23:19:12.086118Z",
     "shell.execute_reply": "2024-01-09T23:19:12.084674Z"
    },
    "papermill": {
     "duration": 0.06761,
     "end_time": "2024-01-09T23:19:12.088396",
     "exception": false,
     "start_time": "2024-01-09T23:19:12.020786",
     "status": "completed"
    },
    "tags": []
   },
   "outputs": [
    {
     "data": {
      "text/html": [
       "<div>\n",
       "<style scoped>\n",
       "    .dataframe tbody tr th:only-of-type {\n",
       "        vertical-align: middle;\n",
       "    }\n",
       "\n",
       "    .dataframe tbody tr th {\n",
       "        vertical-align: top;\n",
       "    }\n",
       "\n",
       "    .dataframe thead th {\n",
       "        text-align: right;\n",
       "    }\n",
       "</style>\n",
       "<table border=\"1\" class=\"dataframe\">\n",
       "  <thead>\n",
       "    <tr style=\"text-align: right;\">\n",
       "      <th></th>\n",
       "      <th>count</th>\n",
       "      <th>mean</th>\n",
       "      <th>std</th>\n",
       "      <th>min</th>\n",
       "      <th>25%</th>\n",
       "      <th>50%</th>\n",
       "      <th>75%</th>\n",
       "      <th>max</th>\n",
       "    </tr>\n",
       "  </thead>\n",
       "  <tbody>\n",
       "    <tr>\n",
       "      <th>default</th>\n",
       "      <td>10127.0</td>\n",
       "      <td>0.160660</td>\n",
       "      <td>0.367235</td>\n",
       "      <td>0.00</td>\n",
       "      <td>0.000</td>\n",
       "      <td>0.00</td>\n",
       "      <td>0.000</td>\n",
       "      <td>1.00</td>\n",
       "    </tr>\n",
       "    <tr>\n",
       "      <th>idade</th>\n",
       "      <td>10127.0</td>\n",
       "      <td>46.325960</td>\n",
       "      <td>8.016814</td>\n",
       "      <td>26.00</td>\n",
       "      <td>41.000</td>\n",
       "      <td>46.00</td>\n",
       "      <td>52.000</td>\n",
       "      <td>73.00</td>\n",
       "    </tr>\n",
       "    <tr>\n",
       "      <th>dependentes</th>\n",
       "      <td>10127.0</td>\n",
       "      <td>2.346203</td>\n",
       "      <td>1.298908</td>\n",
       "      <td>0.00</td>\n",
       "      <td>1.000</td>\n",
       "      <td>2.00</td>\n",
       "      <td>3.000</td>\n",
       "      <td>5.00</td>\n",
       "    </tr>\n",
       "    <tr>\n",
       "      <th>meses_de_relacionamento</th>\n",
       "      <td>10127.0</td>\n",
       "      <td>35.928409</td>\n",
       "      <td>7.986416</td>\n",
       "      <td>13.00</td>\n",
       "      <td>31.000</td>\n",
       "      <td>36.00</td>\n",
       "      <td>40.000</td>\n",
       "      <td>56.00</td>\n",
       "    </tr>\n",
       "    <tr>\n",
       "      <th>qtd_produtos</th>\n",
       "      <td>10127.0</td>\n",
       "      <td>3.812580</td>\n",
       "      <td>1.554408</td>\n",
       "      <td>1.00</td>\n",
       "      <td>3.000</td>\n",
       "      <td>4.00</td>\n",
       "      <td>5.000</td>\n",
       "      <td>6.00</td>\n",
       "    </tr>\n",
       "    <tr>\n",
       "      <th>iteracoes_12m</th>\n",
       "      <td>10127.0</td>\n",
       "      <td>2.455317</td>\n",
       "      <td>1.106225</td>\n",
       "      <td>0.00</td>\n",
       "      <td>2.000</td>\n",
       "      <td>2.00</td>\n",
       "      <td>3.000</td>\n",
       "      <td>6.00</td>\n",
       "    </tr>\n",
       "    <tr>\n",
       "      <th>meses_inativo_12m</th>\n",
       "      <td>10127.0</td>\n",
       "      <td>2.341167</td>\n",
       "      <td>1.010622</td>\n",
       "      <td>0.00</td>\n",
       "      <td>2.000</td>\n",
       "      <td>2.00</td>\n",
       "      <td>3.000</td>\n",
       "      <td>6.00</td>\n",
       "    </tr>\n",
       "    <tr>\n",
       "      <th>limite_credito</th>\n",
       "      <td>10127.0</td>\n",
       "      <td>8632.440165</td>\n",
       "      <td>9088.788041</td>\n",
       "      <td>1438.00</td>\n",
       "      <td>2555.355</td>\n",
       "      <td>4549.42</td>\n",
       "      <td>11068.175</td>\n",
       "      <td>34516.99</td>\n",
       "    </tr>\n",
       "    <tr>\n",
       "      <th>valor_transacoes_12m</th>\n",
       "      <td>10127.0</td>\n",
       "      <td>4404.583047</td>\n",
       "      <td>3397.128078</td>\n",
       "      <td>510.16</td>\n",
       "      <td>2155.825</td>\n",
       "      <td>3899.59</td>\n",
       "      <td>4741.310</td>\n",
       "      <td>18484.93</td>\n",
       "    </tr>\n",
       "    <tr>\n",
       "      <th>qtd_transacoes_12m</th>\n",
       "      <td>10127.0</td>\n",
       "      <td>64.858695</td>\n",
       "      <td>23.472570</td>\n",
       "      <td>10.00</td>\n",
       "      <td>45.000</td>\n",
       "      <td>67.00</td>\n",
       "      <td>81.000</td>\n",
       "      <td>139.00</td>\n",
       "    </tr>\n",
       "  </tbody>\n",
       "</table>\n",
       "</div>"
      ],
      "text/plain": [
       "                           count         mean          std      min       25%  \\\n",
       "default                  10127.0     0.160660     0.367235     0.00     0.000   \n",
       "idade                    10127.0    46.325960     8.016814    26.00    41.000   \n",
       "dependentes              10127.0     2.346203     1.298908     0.00     1.000   \n",
       "meses_de_relacionamento  10127.0    35.928409     7.986416    13.00    31.000   \n",
       "qtd_produtos             10127.0     3.812580     1.554408     1.00     3.000   \n",
       "iteracoes_12m            10127.0     2.455317     1.106225     0.00     2.000   \n",
       "meses_inativo_12m        10127.0     2.341167     1.010622     0.00     2.000   \n",
       "limite_credito           10127.0  8632.440165  9088.788041  1438.00  2555.355   \n",
       "valor_transacoes_12m     10127.0  4404.583047  3397.128078   510.16  2155.825   \n",
       "qtd_transacoes_12m       10127.0    64.858695    23.472570    10.00    45.000   \n",
       "\n",
       "                             50%        75%       max  \n",
       "default                     0.00      0.000      1.00  \n",
       "idade                      46.00     52.000     73.00  \n",
       "dependentes                 2.00      3.000      5.00  \n",
       "meses_de_relacionamento    36.00     40.000     56.00  \n",
       "qtd_produtos                4.00      5.000      6.00  \n",
       "iteracoes_12m               2.00      3.000      6.00  \n",
       "meses_inativo_12m           2.00      3.000      6.00  \n",
       "limite_credito           4549.42  11068.175  34516.99  \n",
       "valor_transacoes_12m     3899.59   4741.310  18484.93  \n",
       "qtd_transacoes_12m         67.00     81.000    139.00  "
      ]
     },
     "execution_count": 19,
     "metadata": {},
     "output_type": "execute_result"
    }
   ],
   "source": [
    "df.drop('id', axis=1).select_dtypes('number').describe().transpose()"
   ]
  },
  {
   "cell_type": "code",
   "execution_count": 20,
   "id": "614bace8",
   "metadata": {
    "execution": {
     "iopub.execute_input": "2024-01-09T23:19:12.120392Z",
     "iopub.status.busy": "2024-01-09T23:19:12.119970Z",
     "iopub.status.idle": "2024-01-09T23:19:12.132189Z",
     "shell.execute_reply": "2024-01-09T23:19:12.130968Z"
    },
    "papermill": {
     "duration": 0.0312,
     "end_time": "2024-01-09T23:19:12.134669",
     "exception": false,
     "start_time": "2024-01-09T23:19:12.103469",
     "status": "completed"
    },
    "tags": []
   },
   "outputs": [],
   "source": [
    "#retirando dados faltantes\n",
    "df.dropna(inplace=True)"
   ]
  },
  {
   "cell_type": "code",
   "execution_count": 21,
   "id": "8612c7d8",
   "metadata": {
    "execution": {
     "iopub.execute_input": "2024-01-09T23:19:12.167100Z",
     "iopub.status.busy": "2024-01-09T23:19:12.166641Z",
     "iopub.status.idle": "2024-01-09T23:19:12.176072Z",
     "shell.execute_reply": "2024-01-09T23:19:12.175017Z"
    },
    "papermill": {
     "duration": 0.028152,
     "end_time": "2024-01-09T23:19:12.178268",
     "exception": false,
     "start_time": "2024-01-09T23:19:12.150116",
     "status": "completed"
    },
    "tags": []
   },
   "outputs": [
    {
     "data": {
      "text/plain": [
       "(8500, 16)"
      ]
     },
     "execution_count": 21,
     "metadata": {},
     "output_type": "execute_result"
    }
   ],
   "source": [
    "df[df['default'] == 0].shape"
   ]
  },
  {
   "cell_type": "code",
   "execution_count": 22,
   "id": "e94efb9f",
   "metadata": {
    "execution": {
     "iopub.execute_input": "2024-01-09T23:19:12.210510Z",
     "iopub.status.busy": "2024-01-09T23:19:12.210086Z",
     "iopub.status.idle": "2024-01-09T23:19:12.219553Z",
     "shell.execute_reply": "2024-01-09T23:19:12.217786Z"
    },
    "papermill": {
     "duration": 0.028325,
     "end_time": "2024-01-09T23:19:12.221922",
     "exception": false,
     "start_time": "2024-01-09T23:19:12.193597",
     "status": "completed"
    },
    "tags": []
   },
   "outputs": [
    {
     "data": {
      "text/plain": [
       "(1627, 16)"
      ]
     },
     "execution_count": 22,
     "metadata": {},
     "output_type": "execute_result"
    }
   ],
   "source": [
    "df[df['default'] == 1].shape"
   ]
  },
  {
   "cell_type": "code",
   "execution_count": 23,
   "id": "9ab26ecd",
   "metadata": {
    "execution": {
     "iopub.execute_input": "2024-01-09T23:19:12.254356Z",
     "iopub.status.busy": "2024-01-09T23:19:12.253942Z",
     "iopub.status.idle": "2024-01-09T23:19:12.261356Z",
     "shell.execute_reply": "2024-01-09T23:19:12.260469Z"
    },
    "papermill": {
     "duration": 0.026435,
     "end_time": "2024-01-09T23:19:12.263870",
     "exception": false,
     "start_time": "2024-01-09T23:19:12.237435",
     "status": "completed"
    },
    "tags": []
   },
   "outputs": [],
   "source": [
    "df_adimplente = df[df['default'] == 0]\n",
    "df_inadimplente = df[df['default'] == 1]"
   ]
  },
  {
   "cell_type": "code",
   "execution_count": 24,
   "id": "b934a775",
   "metadata": {
    "execution": {
     "iopub.execute_input": "2024-01-09T23:19:12.296359Z",
     "iopub.status.busy": "2024-01-09T23:19:12.295935Z",
     "iopub.status.idle": "2024-01-09T23:19:12.305016Z",
     "shell.execute_reply": "2024-01-09T23:19:12.303893Z"
    },
    "papermill": {
     "duration": 0.027983,
     "end_time": "2024-01-09T23:19:12.307351",
     "exception": false,
     "start_time": "2024-01-09T23:19:12.279368",
     "status": "completed"
    },
    "tags": []
   },
   "outputs": [],
   "source": [
    "qtd_total_novo, _ = df.shape\n",
    "qtd_adimplentes_novo, _ = df[df['default'] == 0].shape\n",
    "qtd_inadimplentes_novo, _ = df[df['default'] == 1].shape"
   ]
  },
  {
   "cell_type": "markdown",
   "id": "4d6604b7",
   "metadata": {
    "papermill": {
     "duration": 0.015523,
     "end_time": "2024-01-09T23:19:12.338376",
     "exception": false,
     "start_time": "2024-01-09T23:19:12.322853",
     "status": "completed"
    },
    "tags": []
   },
   "source": [
    "5. Visualizando dados "
   ]
  },
  {
   "cell_type": "code",
   "execution_count": 25,
   "id": "f843c4d7",
   "metadata": {
    "execution": {
     "iopub.execute_input": "2024-01-09T23:19:12.370813Z",
     "iopub.status.busy": "2024-01-09T23:19:12.370386Z",
     "iopub.status.idle": "2024-01-09T23:19:12.384310Z",
     "shell.execute_reply": "2024-01-09T23:19:12.383215Z"
    },
    "papermill": {
     "duration": 0.032973,
     "end_time": "2024-01-09T23:19:12.386875",
     "exception": false,
     "start_time": "2024-01-09T23:19:12.353902",
     "status": "completed"
    },
    "tags": []
   },
   "outputs": [
    {
     "data": {
      "text/html": [
       "<div>\n",
       "<style scoped>\n",
       "    .dataframe tbody tr th:only-of-type {\n",
       "        vertical-align: middle;\n",
       "    }\n",
       "\n",
       "    .dataframe tbody tr th {\n",
       "        vertical-align: top;\n",
       "    }\n",
       "\n",
       "    .dataframe thead th {\n",
       "        text-align: right;\n",
       "    }\n",
       "</style>\n",
       "<table border=\"1\" class=\"dataframe\">\n",
       "  <thead>\n",
       "    <tr style=\"text-align: right;\">\n",
       "      <th></th>\n",
       "      <th>sexo</th>\n",
       "      <th>escolaridade</th>\n",
       "      <th>estado_civil</th>\n",
       "      <th>salario_anual</th>\n",
       "      <th>tipo_cartao</th>\n",
       "    </tr>\n",
       "  </thead>\n",
       "  <tbody>\n",
       "    <tr>\n",
       "      <th>0</th>\n",
       "      <td>M</td>\n",
       "      <td>ensino medio</td>\n",
       "      <td>casado</td>\n",
       "      <td>$60K - $80K</td>\n",
       "      <td>blue</td>\n",
       "    </tr>\n",
       "    <tr>\n",
       "      <th>1</th>\n",
       "      <td>F</td>\n",
       "      <td>mestrado</td>\n",
       "      <td>solteiro</td>\n",
       "      <td>menos que $40K</td>\n",
       "      <td>blue</td>\n",
       "    </tr>\n",
       "    <tr>\n",
       "      <th>2</th>\n",
       "      <td>M</td>\n",
       "      <td>mestrado</td>\n",
       "      <td>casado</td>\n",
       "      <td>$80K - $120K</td>\n",
       "      <td>blue</td>\n",
       "    </tr>\n",
       "    <tr>\n",
       "      <th>3</th>\n",
       "      <td>F</td>\n",
       "      <td>ensino medio</td>\n",
       "      <td>na</td>\n",
       "      <td>menos que $40K</td>\n",
       "      <td>blue</td>\n",
       "    </tr>\n",
       "    <tr>\n",
       "      <th>4</th>\n",
       "      <td>M</td>\n",
       "      <td>sem educacao formal</td>\n",
       "      <td>casado</td>\n",
       "      <td>$60K - $80K</td>\n",
       "      <td>blue</td>\n",
       "    </tr>\n",
       "  </tbody>\n",
       "</table>\n",
       "</div>"
      ],
      "text/plain": [
       "  sexo         escolaridade estado_civil   salario_anual tipo_cartao\n",
       "0    M         ensino medio       casado     $60K - $80K        blue\n",
       "1    F             mestrado     solteiro  menos que $40K        blue\n",
       "2    M             mestrado       casado    $80K - $120K        blue\n",
       "3    F         ensino medio           na  menos que $40K        blue\n",
       "4    M  sem educacao formal       casado     $60K - $80K        blue"
      ]
     },
     "execution_count": 25,
     "metadata": {},
     "output_type": "execute_result"
    }
   ],
   "source": [
    "df.select_dtypes('object').head(n=5)"
   ]
  },
  {
   "cell_type": "code",
   "execution_count": 26,
   "id": "5902ab50",
   "metadata": {
    "execution": {
     "iopub.execute_input": "2024-01-09T23:19:12.420524Z",
     "iopub.status.busy": "2024-01-09T23:19:12.420045Z",
     "iopub.status.idle": "2024-01-09T23:19:13.339671Z",
     "shell.execute_reply": "2024-01-09T23:19:13.338551Z"
    },
    "papermill": {
     "duration": 0.939354,
     "end_time": "2024-01-09T23:19:13.342247",
     "exception": false,
     "start_time": "2024-01-09T23:19:12.402893",
     "status": "completed"
    },
    "tags": []
   },
   "outputs": [
    {
     "name": "stdout",
     "output_type": "stream",
     "text": [
      "escolaridade\n",
      "mestrado               3128\n",
      "ensino medio           2013\n",
      "na                     1519\n",
      "sem educacao formal    1487\n",
      "graduacao              1013\n",
      "doutorado               967\n",
      "Name: count, dtype: int64\n"
     ]
    },
    {
     "data": {
      "image/png": "[encoded data removed]",
      "text/plain": [
       "<Figure size 2000x500 with 3 Axes>"
      ]
     },
     "metadata": {},
     "output_type": "display_data"
    }
   ],
   "source": [
    "#Visualização de atributos separados em função do target da adimplência\n",
    "#Faremos primeiro a visualiazação de uma variável categórica\n",
    "import pandas as pd\n",
    "import seaborn as sns\n",
    "import matplotlib.pyplot as plt\n",
    "\n",
    "coluna = 'escolaridade'\n",
    "titulos = ['Escolaridade dos Clientes', 'Escolaridade dos Clientes Adimplentes', 'Escolaridade dos Clientes Inadimplentes']\n",
    "\n",
    "eixo = 0\n",
    "max_y = 0\n",
    "\n",
    "# Imprimir o resultado de df[coluna].value_counts() para verificar os valores retornados\n",
    "print(df[coluna].value_counts())\n",
    "\n",
    "max_value_counts = df[coluna].value_counts().max()\n",
    "max_val = max_value_counts * 1.1  # Renomeando a variável 'max' para 'max_val'\n",
    "\n",
    "figura, eixos = plt.subplots(1, 3, figsize=(20, 5), sharex=True)\n",
    "\n",
    "for dataframe in [df, df_adimplente, df_inadimplente]:\n",
    "    df_to_plot = dataframe[coluna].value_counts().reset_index()\n",
    "    df_to_plot.columns = [coluna, 'frequencia_absoluta']\n",
    "\n",
    "    f = sns.barplot(x=coluna, y='frequencia_absoluta', data=df_to_plot, ax=eixos[eixo])\n",
    "    f.set(title=titulos[eixo], xlabel=coluna.capitalize(), ylabel='Frequência Absoluta')\n",
    "    f.set_xticklabels(labels=f.get_xticklabels(), rotation=90)\n",
    "\n",
    "    _, max_y_f = f.get_ylim()\n",
    "    max_y = max_y_f if max_y_f > max_y else max_y\n",
    "    f.set(ylim=(0, max_y))\n",
    "\n",
    "    eixo += 1\n",
    "\n",
    "plt.tight_layout()\n",
    "plt.show()"
   ]
  },
  {
   "cell_type": "markdown",
   "id": "754a1167",
   "metadata": {
    "papermill": {
     "duration": 0.016432,
     "end_time": "2024-01-09T23:19:13.376210",
     "exception": false,
     "start_time": "2024-01-09T23:19:13.359778",
     "status": "completed"
    },
    "tags": []
   },
   "source": [
    "Com os gráficos agrupando escolaridade, precebemos que ela não é uma variável que possa diferenciar os perfis, as três primeiras escolaridades ordenadas por frequência no grupo de adimplentes, se repete no grupo de inadimplentes"
   ]
  },
  {
   "cell_type": "code",
   "execution_count": 27,
   "id": "f84df522",
   "metadata": {
    "execution": {
     "iopub.execute_input": "2024-01-09T23:19:13.411739Z",
     "iopub.status.busy": "2024-01-09T23:19:13.410584Z",
     "iopub.status.idle": "2024-01-09T23:19:14.630762Z",
     "shell.execute_reply": "2024-01-09T23:19:14.629659Z"
    },
    "papermill": {
     "duration": 1.241153,
     "end_time": "2024-01-09T23:19:14.633907",
     "exception": false,
     "start_time": "2024-01-09T23:19:13.392754",
     "status": "completed"
    },
    "tags": []
   },
   "outputs": [
    {
     "data": {
      "image/png": "[encoded data removed]",
      "text/plain": [
       "<Figure size 2000x500 with 3 Axes>"
      ]
     },
     "metadata": {},
     "output_type": "display_data"
    }
   ],
   "source": [
    "#segunda visualização, com as variáveis contínuas\n",
    "coluna = 'qtd_transacoes_12m'\n",
    "titulos = ['Qtd. de Transações no Último Ano', 'Qtd. de Transações no Último Ano de Adimplentes', 'Qtd. de Transações no Último Ano de Inadimplentes']\n",
    "\n",
    "eixo = 0\n",
    "max_y = 0\n",
    "figura, eixos = plt.subplots(1,3, figsize=(20, 5), sharex=True)\n",
    "\n",
    "for dataframe in [df, df_adimplente, df_inadimplente]:\n",
    "\n",
    "  f = sns.histplot(x=coluna, data=dataframe, stat='count', ax=eixos[eixo])\n",
    "  f.set(title=titulos[eixo], xlabel=coluna.capitalize(), ylabel='Frequência Absoluta')\n",
    "\n",
    "  _, max_y_f = f.get_ylim()\n",
    "  max_y = max_y_f if max_y_f > max_y else max_y\n",
    "  f.set(ylim=(0, max_y))\n",
    "\n",
    "  eixo += 1\n",
    "\n",
    "figura.show()\n"
   ]
  },
  {
   "cell_type": "markdown",
   "id": "15b21bb2",
   "metadata": {
    "papermill": {
     "duration": 0.017249,
     "end_time": "2024-01-09T23:19:14.668619",
     "exception": false,
     "start_time": "2024-01-09T23:19:14.651370",
     "status": "completed"
    },
    "tags": []
   },
   "source": [
    "Pode-se observar que o grupo de adimplementes possui uma concentração maior de transações nos últimos 12 meses entre 30 e 50, já no grupo de adimplentes, o ápice do grupo está entre 60 e 90."
   ]
  },
  {
   "cell_type": "code",
   "execution_count": 28,
   "id": "6c06a8c2",
   "metadata": {
    "execution": {
     "iopub.execute_input": "2024-01-09T23:19:14.705327Z",
     "iopub.status.busy": "2024-01-09T23:19:14.704943Z",
     "iopub.status.idle": "2024-01-09T23:19:16.192559Z",
     "shell.execute_reply": "2024-01-09T23:19:16.191138Z"
    },
    "papermill": {
     "duration": 1.509402,
     "end_time": "2024-01-09T23:19:16.195311",
     "exception": false,
     "start_time": "2024-01-09T23:19:14.685909",
     "status": "completed"
    },
    "tags": []
   },
   "outputs": [
    {
     "data": {
      "image/png": "[encoded data removed]",
      "text/plain": [
       "<Figure size 2000x500 with 3 Axes>"
      ]
     },
     "metadata": {},
     "output_type": "display_data"
    }
   ],
   "source": [
    "#Terceira visualização, com outra variável contínua\n",
    "coluna = 'valor_transacoes_12m'\n",
    "titulos = ['Valor das Transações no Último Ano', 'Valor das Transações no Último Ano de Adimplentes', 'Valor das Transações no Último Ano de Inadimplentes']\n",
    "\n",
    "eixo = 0\n",
    "max_y = 0\n",
    "figura, eixos = plt.subplots(1,3, figsize=(20, 5), sharex=True)\n",
    "\n",
    "for dataframe in [df, df_adimplente, df_inadimplente]:\n",
    "\n",
    "  f = sns.histplot(x=coluna, data=dataframe, stat='count', ax=eixos[eixo])\n",
    "  f.set(title=titulos[eixo], xlabel=coluna.capitalize(), ylabel='Frequência Absoluta')\n",
    "\n",
    "  _, max_y_f = f.get_ylim()\n",
    "  max_y = max_y_f if max_y_f > max_y else max_y\n",
    "  f.set(ylim=(0, max_y))\n",
    "\n",
    "  eixo += 1\n",
    "\n",
    "figura.show()"
   ]
  },
  {
   "cell_type": "markdown",
   "id": "ff473bc2",
   "metadata": {
    "papermill": {
     "duration": 0.018083,
     "end_time": "2024-01-09T23:19:16.233061",
     "exception": false,
     "start_time": "2024-01-09T23:19:16.214978",
     "status": "completed"
    },
    "tags": []
   },
   "source": [
    "Quanto ao valor das transações, os inadimplentes concentram-se em valores mais baixos que os adimplentes, tendo seu ápice em 2500."
   ]
  },
  {
   "cell_type": "code",
   "execution_count": 29,
   "id": "8f54fd70",
   "metadata": {
    "execution": {
     "iopub.execute_input": "2024-01-09T23:19:16.271882Z",
     "iopub.status.busy": "2024-01-09T23:19:16.271503Z",
     "iopub.status.idle": "2024-01-09T23:19:17.919793Z",
     "shell.execute_reply": "2024-01-09T23:19:17.918888Z"
    },
    "papermill": {
     "duration": 1.671453,
     "end_time": "2024-01-09T23:19:17.923312",
     "exception": false,
     "start_time": "2024-01-09T23:19:16.251859",
     "status": "completed"
    },
    "tags": []
   },
   "outputs": [
    {
     "data": {
      "image/png": "[encoded data removed]",
      "text/plain": [
       "<Figure size 560.236x500 with 1 Axes>"
      ]
     },
     "metadata": {},
     "output_type": "display_data"
    }
   ],
   "source": [
    "#Quarta visualização dos dados, olhando em gráfico de dispersão\n",
    "f = sns.relplot(x='valor_transacoes_12m', y='qtd_transacoes_12m', data=df, hue='default')\n",
    "_ = f.set(\n",
    "    title='Relação entre Valor e Quantidade de Transações no Último Ano', \n",
    "    xlabel='Valor das Transações no Último Ano', \n",
    "    ylabel='Quantidade das Transações no Último Ano'\n",
    "  )"
   ]
  },
  {
   "cell_type": "markdown",
   "id": "42b715a7",
   "metadata": {
    "papermill": {
     "duration": 0.020289,
     "end_time": "2024-01-09T23:19:17.964604",
     "exception": false,
     "start_time": "2024-01-09T23:19:17.944315",
     "status": "completed"
    },
    "tags": []
   },
   "source": [
    "6. Resultados obtidos da análise\n",
    "\n",
    "\n",
    "Na análise visual dos dados, podemos perceber que o grupo de inadimplentes se concentra em pessoas que fazem entre 30 e 50 transações em 12 meses e com valor entre 2000 e 2600 por transação.\n",
    "\n",
    "Aplicando essa segmentação na base existente, conseguimos avançar para um percentual de adimplentes de 92,46%\n",
    "\n",
    "A aplicação é demonstrada abaixo."
   ]
  },
  {
   "cell_type": "code",
   "execution_count": 30,
   "id": "868ee73e",
   "metadata": {
    "execution": {
     "iopub.execute_input": "2024-01-09T23:19:18.008491Z",
     "iopub.status.busy": "2024-01-09T23:19:18.007735Z",
     "iopub.status.idle": "2024-01-09T23:19:18.020558Z",
     "shell.execute_reply": "2024-01-09T23:19:18.018987Z"
    },
    "papermill": {
     "duration": 0.037812,
     "end_time": "2024-01-09T23:19:18.023013",
     "exception": false,
     "start_time": "2024-01-09T23:19:17.985201",
     "status": "completed"
    },
    "tags": []
   },
   "outputs": [
    {
     "name": "stdout",
     "output_type": "stream",
     "text": [
      "A proporcão clientes adimplentes é de 92.46%\n",
      "A proporcão clientes inadimplentes é de 7.54%\n"
     ]
    }
   ],
   "source": [
    "# Aplicando filtro na coluna 'qtd_transacoes_12m' entre 30 e 50 e Valor das transações\n",
    "novo_df = df[((df['qtd_transacoes_12m'] < 30) | (df['qtd_transacoes_12m'] > 50)) & ((df['valor_transacoes_12m'] < 2000) | (df['valor_transacoes_12m'] > 2600))]\n",
    "qtd_total, _ = novo_df.shape\n",
    "qtd_adimplentes, _ = novo_df[novo_df['default'] == 0].shape\n",
    "qtd_inadimplentes, _ = novo_df[novo_df['default'] == 1].shape\n",
    "print(f\"A proporcão clientes adimplentes é de {round(100 * qtd_adimplentes / qtd_total, 2)}%\")\n",
    "print(f\"A proporcão clientes inadimplentes é de {round(100 * qtd_inadimplentes / qtd_total, 2)}%\")"
   ]
  }
 ],
 "metadata": {
  "kaggle": {
   "accelerator": "none",
   "dataSources": [
    {
     "datasetId": 4283902,
     "sourceId": 7372878,
     "sourceType": "datasetVersion"
    }
   ],
   "dockerImageVersionId": 30626,
   "isGpuEnabled": false,
   "isInternetEnabled": false,
   "language": "python",
   "sourceType": "notebook"
  },
  "kernelspec": {
   "display_name": "Python 3",
   "language": "python",
   "name": "python3"
  },
  "language_info": {
   "codemirror_mode": {
    "name": "ipython",
    "version": 3
   },
   "file_extension": ".py",
   "mimetype": "text/x-python",
   "name": "python",
   "nbconvert_exporter": "python",
   "pygments_lexer": "ipython3",
   "version": "3.10.12"
  },
  "papermill": {
   "default_parameters": {},
   "duration": 13.076365,
   "end_time": "2024-01-09T23:19:18.664547",
   "environment_variables": {},
   "exception": null,
   "input_path": "__notebook__.ipynb",
   "output_path": "__notebook__.ipynb",
   "parameters": {},
   "start_time": "2024-01-09T23:19:05.588182",
   "version": "2.4.0"
  }
 },
 "nbformat": 4,
 "nbformat_minor": 5
}
